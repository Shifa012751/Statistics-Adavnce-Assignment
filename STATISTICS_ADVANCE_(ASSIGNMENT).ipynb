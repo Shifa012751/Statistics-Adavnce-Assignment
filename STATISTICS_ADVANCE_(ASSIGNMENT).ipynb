{
  "nbformat": 4,
  "nbformat_minor": 0,
  "metadata": {
    "colab": {
      "provenance": []
    },
    "kernelspec": {
      "name": "python3",
      "display_name": "Python 3"
    },
    "language_info": {
      "name": "python"
    }
  },
  "cells": [
    {
      "cell_type": "markdown",
      "source": [
        "# **STATISTICS ADVANCE (ASSIGNMENT)**"
      ],
      "metadata": {
        "id": "xLB72N6Tb7Ug"
      }
    },
    {
      "cell_type": "markdown",
      "source": [
        "**Question 1: What is a random variable in probability theory?**\n",
        "\n",
        "Answer - Random variables refers to a set of possible values from a random experiment.\n",
        "\n",
        "Example - Tossing a coin\n",
        "\n",
        "*  We have an experriment Tossing a coin.\n",
        "*  Quantity each event [0 - T, 1 - H].\n",
        "*  This value is randon variable.\n",
        "\n",
        "it can take any values from set of values outcome.\n",
        "\n"
      ],
      "metadata": {
        "id": "6bqfpvZTcHuJ"
      }
    },
    {
      "cell_type": "markdown",
      "source": [
        "**Question 2: What are the types of random variables?**\n",
        "\n",
        "Answer - There are two types of Random Variables\n",
        "\n",
        "1. Discrete Random Variable\n",
        "A discrete random variable takes countable values, usually as a result of counting.\n",
        "\n",
        "Examples:\n",
        "\n",
        "*  Number of students in a class.\n",
        "*  Number of heads when flipping a coin 3 times.\n",
        "*  Number of goals scored in a football match.\n",
        "\n",
        "2. Continuous Random Variable\n",
        "A continuous random variable takes uncountably infinite values within a given interval, usually as a result of measuring.\n",
        "\n",
        "Examples:\n",
        "\n",
        "*   Height of students in a class.\n",
        "*   Time taken to complete an exam.\n",
        "*   Temperature in a city on a given day."
      ],
      "metadata": {
        "id": "YMTCOrNRgSMh"
      }
    },
    {
      "cell_type": "markdown",
      "source": [
        "**Question 3: Explain the difference between discrete and continuous distributions**.\n",
        "\n",
        "Answer - The key difference between discrete and continuous distributions lies in the type of data they describe and how probabilities are assigned.\n",
        "\n",
        "**Discrete Distribution** -\n",
        "A discrete distribution describes the probability of outcomes for a discrete random variable — one that takes countable values.\n",
        "\n",
        "Characteristics:\n",
        "\n",
        "Probabilities are assigned to specific values.\n",
        "\n",
        "The total sum of all probabilities is 1.\n",
        "\n",
        "Represented using probability mass functions (PMF).\n",
        "\n",
        "Examples:\n",
        "\n",
        "Binomial distribution: number of successes in a fixed number of trials.\n",
        "\n",
        "Poisson distribution: number of events occurring in a fixed interval.\n",
        "\n",
        "**Continuous Distribution** -\n",
        "A continuous distribution describes the probability of outcomes for a continuous random variable — one that takes values from an infinite range (within an interval).\n",
        "\n",
        "Characteristics:\n",
        "\n",
        "Probabilities are assigned to intervals, not specific values.\n",
        "\n",
        "Probability of any exact value is zero.\n",
        "\n",
        "Represented using probability density functions (PDF).\n",
        "\n",
        "Area under the curve over an interval gives the probability.\n",
        "\n",
        "Examples:\n",
        "\n",
        "Normal distribution: heights, test scores.\n",
        "\n",
        "Exponential distribution: time between arrivals/events."
      ],
      "metadata": {
        "id": "kfuncMMtjd3G"
      }
    },
    {
      "cell_type": "markdown",
      "source": [
        "**Question 4: What is a binomial distribution, and how is it used in probability?**\n",
        "\n",
        "Answer -\n",
        "\n",
        "A **binomial distribution** is a **discrete probability distribution** that models the number of **successes** in a fixed number of **independent** trials of a **binary experiment** (each trial has only two possible outcomes: **success** or **failure**).\n",
        "\n",
        "\n",
        " **Key Characteristics:**\n",
        "\n",
        "* Each trial has only two outcomes: **Success (S)** or **Failure (F)**.\n",
        "* There are a fixed number of trials: **n**.\n",
        "* The probability of success in each trial is constant: **p**.\n",
        "* The trials are **independent** of each other.\n",
        "\n",
        " **Probability Formula:**\n",
        "\n",
        "$$\n",
        "P(X = k) = \\binom{n}{k} p^k (1 - p)^{n - k}\n",
        "$$\n",
        "\n",
        "Where:\n",
        "\n",
        "* $P(X = k)$: Probability of getting exactly **k** successes in **n** trials.\n",
        "* $\\binom{n}{k}$: Combination of n items taken k at a time.\n",
        "* $p$: Probability of success in a single trial.\n",
        "* $(1 - p)$: Probability of failure.\n",
        "\n",
        "**Example Use Case:**\n",
        "\n",
        "Suppose a coin is flipped 5 times. What is the probability of getting exactly 3 heads?\n",
        "\n",
        "Here:\n",
        "\n",
        "* Number of trials $n = 5$\n",
        "* Probability of head (success) $p = 0.5$\n",
        "* Number of successes $k = 3$\n",
        "\n",
        "Apply the binomial formula to calculate the probability.\n",
        "\n",
        "**Applications in Probability:**\n",
        "\n",
        "* Quality control (e.g., number of defective items in a batch).\n",
        "* Medical trials (e.g., number of patients responding to treatment).\n",
        "* Games of chance (e.g., number of wins in repeated games).\n",
        "* Surveys (e.g., number of people agreeing with a statement).\n"
      ],
      "metadata": {
        "id": "0UMlaTdkloz3"
      }
    },
    {
      "cell_type": "markdown",
      "source": [
        "Question 5: What is the standard normal distribution, and why is it important?\n",
        "\n",
        "Answer - The standard normal distribution is a special case of the normal (Gaussian) distribution where:\n",
        "\n",
        "Mean (μ) = 0\n",
        "\n",
        "Standard deviation (σ) = 1\n",
        "\n",
        "It is a continuous, bell-shaped, and symmetric probability distribution centered at zero.\n",
        "\n",
        "**Why Is It Important?**\n",
        "\n",
        "1. Basis for Z-scores\n",
        "\n",
        "Any normal distribution can be converted to the standard normal using the z-score formula\n",
        "\n",
        "2. Simplifies Probability Calculations\n",
        "\n",
        "Probabilities for any normal distribution can be found using standard normal tables or software.\n",
        "\n",
        " 3. Widely Used in Statistics\n",
        "\n",
        "Used in hypothesis testing, confidence intervals, and control charts.\n",
        "\n",
        "Helps in standardizing data for analysis and modeling.\n",
        "\n"
      ],
      "metadata": {
        "id": "G8iAbrNUmo0y"
      }
    },
    {
      "cell_type": "markdown",
      "source": [
        "**Question 6: What is the Central Limit Theorem (CLT), and why is it critical in statistics?**\n",
        "\n",
        "Answer - The Central Limit Theorem (CLT) states that:\n",
        "\n",
        "When a large number of independent, identically distributed (i.i.d.) random variables are averaged, their sample mean tends to follow a normal distribution, regardless of the original distribution of the data — provided the sample size is sufficiently large.\n",
        "\n",
        "**Why is CLT Important?**\n",
        "\n",
        " 1. Allows Normal Approximation\n",
        "Even if the population is not normally distributed, the sample mean will be approximately normal for large\n",
        "𝑛\n",
        "n.\n",
        "\n",
        " 2. Foundation of Inferential Statistics\n",
        "Enables construction of confidence intervals and hypothesis tests using the normal distribution.\n",
        "\n",
        " 3. Simplifies Complex Problems\n",
        "Many real-world problems involve unknown or complicated distributions — CLT makes analysis easier by allowing the use of normal distribution tools.\n"
      ],
      "metadata": {
        "id": "8i5KfyG8oAe1"
      }
    },
    {
      "cell_type": "markdown",
      "source": [
        "Question 7: What is the significance of confidence intervals in statistical analysis?\n",
        "\n",
        "\n",
        "Answer - A confidence interval (CI) is a range of values, derived from sample data, that is likely to contain the true population parameter (like mean or proportion) with a certain level of confidence (e.g., 95%).\n",
        "\n",
        "Example:\n",
        "If a 95% confidence interval for the average height of students is (160 cm, 170 cm), it means:\n",
        "\n",
        "\"We are 95% confident that the true average height of all students lies between 160 cm and 170 cm.\""
      ],
      "metadata": {
        "id": "02zRa39vpb5d"
      }
    },
    {
      "cell_type": "markdown",
      "source": [
        "**Question 8: What is the concept of expected value in a probability distribution?**\n",
        "\n",
        "Answer - The expected value (EV) of a random variable is the long-run average or mean value it would take after many repetitions of an experiment. It gives a measure of the central tendency of a probability distribution.\n",
        "\n",
        "It is often referred to as the \"weighted average\" of all possible outcomes, where the weights are the probabilities of each outcome.\n"
      ],
      "metadata": {
        "id": "ohd4n0FvqPE2"
      }
    },
    {
      "cell_type": "markdown",
      "source": [
        "**Question 9: Write a Python program to generate 1000 random numbers from a normal\n",
        "distribution with mean = 50 and standard deviation = 5. Compute its mean and standard\n",
        "deviation using NumPy, and draw a histogram to visualize the distribution.**"
      ],
      "metadata": {
        "id": "8djmdQMvq5uT"
      }
    },
    {
      "cell_type": "code",
      "source": [
        "import numpy as np\n",
        "import matplotlib.pyplot as plt\n",
        "\n",
        "# Step 1: Generate 1000 random numbers from a normal distribution\n",
        "mean = 50\n",
        "std_dev = 5\n",
        "sample_size = 1000\n",
        "\n",
        "data = np.random.normal(loc=mean, scale=std_dev, size=sample_size)\n",
        "\n",
        "# Step 2: Compute the mean and standard deviation\n",
        "calculated_mean = np.mean(data)\n",
        "calculated_std = np.std(data)\n",
        "\n",
        "print(f\"Calculated Mean: {calculated_mean:.2f}\")\n",
        "print(f\"Calculated Standard Deviation: {calculated_std:.2f}\")\n",
        "\n",
        "# Step 3: Plot the histogram\n",
        "plt.figure(figsize=(10, 6))\n",
        "plt.hist(data, bins=30, color='skyblue', edgecolor='black', density=True)\n",
        "plt.title(\"Histogram of Normally Distributed Data\")\n",
        "plt.xlabel(\"Value\")\n",
        "plt.ylabel(\"Frequency Density\")\n",
        "plt.axvline(calculated_mean, color='red', linestyle='dashed', linewidth=2, label=f\"Mean = {calculated_mean:.2f}\")\n",
        "plt.legend()\n",
        "plt.grid(True)\n",
        "plt.show()\n"
      ],
      "metadata": {
        "colab": {
          "base_uri": "https://localhost:8080/",
          "height": 600
        },
        "id": "7gltA8_YrWxC",
        "outputId": "f28f708b-2c51-4bd8-dbec-ca34b3745d35"
      },
      "execution_count": 1,
      "outputs": [
        {
          "output_type": "stream",
          "name": "stdout",
          "text": [
            "Calculated Mean: 49.88\n",
            "Calculated Standard Deviation: 5.05\n"
          ]
        },
        {
          "output_type": "display_data",
          "data": {
            "text/plain": [
              "<Figure size 1000x600 with 1 Axes>"
            ],
            "image/png": "[encoded data removed]"
          },
          "metadata": {}
        }
      ]
    },
    {
      "cell_type": "markdown",
      "source": [
        "**Question 10: You are working as a data analyst for a retail company. The company has\n",
        "collected daily sales data for 2 years and wants you to identify the overall sales trend.**\n",
        "\n",
        "daily_sales = [220, 245, 210, 265, 230, 250, 260, 275, 240, 255,\n",
        "235, 260, 245, 250, 225, 270, 265, 255, 250, 260]\n",
        "\n",
        "● Explain how you would apply the Central Limit Theorem to estimate the average sales\n",
        "with a 95% confidence interval.\n",
        "\n",
        "● Write the Python code to compute the mean sales and its confidence interval."
      ],
      "metadata": {
        "id": "kz3IbTA5rd8R"
      }
    },
    {
      "cell_type": "code",
      "source": [
        "import numpy as np\n",
        "from scipy import stats\n",
        "\n",
        "# Daily sales data\n",
        "daily_sales = [220, 245, 210, 265, 230, 250, 260, 275, 240, 255,\n",
        "               235, 260, 245, 250, 225, 270, 265, 255, 250, 260]\n",
        "\n",
        "# Convert to NumPy array\n",
        "sales_array = np.array(daily_sales)\n",
        "\n",
        "# Compute statistics\n",
        "mean_sales = np.mean(sales_array)\n",
        "std_sales = np.std(sales_array, ddof=1)  # sample standard deviation\n",
        "n = len(sales_array)\n",
        "\n",
        "# Z-score for 95% confidence level\n",
        "z_score = 1.96\n",
        "\n",
        "# Margin of Error\n",
        "margin_of_error = z_score * (std_sales / np.sqrt(n))\n",
        "\n",
        "# Confidence Interval\n",
        "ci_lower = mean_sales - margin_of_error\n",
        "ci_upper = mean_sales + margin_of_error\n",
        "\n",
        "# Output results\n",
        "print(f\"Sample Mean Sales: {mean_sales:.2f}\")\n",
        "print(f\"95% Confidence Interval: ({ci_lower:.2f}, {ci_upper:.2f})\")\n"
      ],
      "metadata": {
        "colab": {
          "base_uri": "https://localhost:8080/"
        },
        "id": "52GkB73ArtMC",
        "outputId": "29ff76b1-8567-4ae1-bf39-8e40d84ac109"
      },
      "execution_count": 2,
      "outputs": [
        {
          "output_type": "stream",
          "name": "stdout",
          "text": [
            "Sample Mean Sales: 248.25\n",
            "95% Confidence Interval: (240.68, 255.82)\n"
          ]
        }
      ]
    }
  ]
}